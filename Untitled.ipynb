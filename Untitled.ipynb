{
 "cells": [
  {
   "cell_type": "code",
   "execution_count": 1,
   "id": "5573381e",
   "metadata": {},
   "outputs": [
    {
     "name": "stdout",
     "output_type": "stream",
     "text": [
      "Requirement already satisfied: conda in c:\\users\\user\\anaconda3\\lib\\site-packages (22.9.0)\n",
      "Requirement already satisfied: pycosat>=0.6.3 in c:\\users\\user\\anaconda3\\lib\\site-packages (from conda) (0.6.3)\n",
      "Requirement already satisfied: requests>=2.20.1 in c:\\users\\user\\anaconda3\\lib\\site-packages (from conda) (2.28.1)\n",
      "Requirement already satisfied: ruamel_yaml_conda>=0.11.14 in c:\\users\\user\\anaconda3\\lib\\site-packages (from conda) (0.15.100)\n",
      "Requirement already satisfied: menuinst in c:\\users\\user\\anaconda3\\lib\\site-packages (from conda) (1.4.19)\n",
      "Requirement already satisfied: idna<4,>=2.5 in c:\\users\\user\\anaconda3\\lib\\site-packages (from requests>=2.20.1->conda) (3.3)\n",
      "Requirement already satisfied: urllib3<1.27,>=1.21.1 in c:\\users\\user\\anaconda3\\lib\\site-packages (from requests>=2.20.1->conda) (1.26.11)\n",
      "Requirement already satisfied: charset-normalizer<3,>=2 in c:\\users\\user\\anaconda3\\lib\\site-packages (from requests>=2.20.1->conda) (2.0.4)\n",
      "Requirement already satisfied: certifi>=2017.4.17 in c:\\users\\user\\anaconda3\\lib\\site-packages (from requests>=2.20.1->conda) (2022.9.14)\n"
     ]
    }
   ],
   "source": [
    "!pip install conda"
   ]
  },
  {
   "cell_type": "code",
   "execution_count": null,
   "id": "fcc70be9",
   "metadata": {},
   "outputs": [],
   "source": [
    "conda create --name deploy-model-linreg python=3.9"
   ]
  }
 ],
 "metadata": {
  "kernelspec": {
   "display_name": "Python 3 (ipykernel)",
   "language": "python",
   "name": "python3"
  },
  "language_info": {
   "codemirror_mode": {
    "name": "ipython",
    "version": 3
   },
   "file_extension": ".py",
   "mimetype": "text/x-python",
   "name": "python",
   "nbconvert_exporter": "python",
   "pygments_lexer": "ipython3",
   "version": "3.9.13"
  }
 },
 "nbformat": 4,
 "nbformat_minor": 5
}
